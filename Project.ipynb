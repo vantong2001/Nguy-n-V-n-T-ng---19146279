{
  "nbformat": 4,
  "nbformat_minor": 0,
  "metadata": {
    "colab": {
      "name": "Project.ipynb",
      "provenance": [],
      "authorship_tag": "ABX9TyNdGbBD6mZX2skwAIl5ZLOA",
      "include_colab_link": true
    },
    "kernelspec": {
      "name": "python3",
      "display_name": "Python 3"
    },
    "language_info": {
      "name": "python"
    }
  },
  "cells": [
    {
      "cell_type": "markdown",
      "metadata": {
        "id": "view-in-github",
        "colab_type": "text"
      },
      "source": [
        "<a href=\"https://colab.research.google.com/github/vantong2001/Nguyen-Van-Tong---19146279/blob/main/Project.ipynb\" target=\"_parent\"><img src=\"https://colab.research.google.com/assets/colab-badge.svg\" alt=\"Open In Colab\"/></a>"
      ]
    },
    {
      "cell_type": "code",
      "execution_count": 19,
      "metadata": {
        "id": "bRh6dZmSMwKv"
      },
      "outputs": [],
      "source": [
        "import numpy as np\n",
        "import matplotlib.pyplot as plt\n",
        "from tensorflow import keras\n",
        "from tensorflow.keras.models import load_model\n",
        "from tensorflow.keras.utils import load_img, img_to_array, to_categorical\n",
        "from tensorflow.keras.preprocessing import image\n",
        "from tensorflow.keras.optimizers import SGD, Adam, RMSprop\n",
        "from keras.models import Sequential\n",
        "from keras.utils import np_utils\n",
        "from keras.layers import Dense, Activation, Dropout, LSTM, BatchNormalization, Flatten\n",
        "from keras.layers.convolutional import Conv2D, MaxPooling2D"
      ]
    },
    {
      "cell_type": "code",
      "source": [
        "from google.colab import drive\n",
        "drive.mount('/content/drive')"
      ],
      "metadata": {
        "colab": {
          "base_uri": "https://localhost:8080/"
        },
        "id": "yg0GVmDqM0nG",
        "outputId": "65995cc2-3574-4974-ec59-625b0be7061b"
      },
      "execution_count": 20,
      "outputs": [
        {
          "output_type": "stream",
          "name": "stdout",
          "text": [
            "Drive already mounted at /content/drive; to attempt to forcibly remount, call drive.mount(\"/content/drive\", force_remount=True).\n"
          ]
        }
      ]
    },
    {
      "cell_type": "code",
      "source": [
        "from tensorflow.keras.preprocessing.image import ImageDataGenerator\n",
        "train_datagen = ImageDataGenerator(rescale=1./255,validation_split = 0.1)"
      ],
      "metadata": {
        "id": "eP9k_YKLM3yl"
      },
      "execution_count": 21,
      "outputs": []
    },
    {
      "cell_type": "code",
      "source": [
        "training_set = train_datagen.flow_from_directory('/content/drive/MyDrive/data_breast_cancer/train_data',\n",
        "                                               target_size = (128,128),\n",
        "                                               batch_size = 32,\n",
        "                                               class_mode ='categorical',\n",
        "                                               subset = 'training',\n",
        "                                               shuffle = True)\n",
        "validation_set = train_datagen.flow_from_directory('/content/drive/MyDrive/data_breast_cancer/train_data',\n",
        "                                               target_size = (128,128),\n",
        "                                               batch_size = 32,\n",
        "                                               class_mode ='categorical',\n",
        "                                               subset = 'validation',\n",
        "                                               shuffle = True)"
      ],
      "metadata": {
        "colab": {
          "base_uri": "https://localhost:8080/"
        },
        "id": "Rp9GNHctM6JE",
        "outputId": "edb589ca-77cc-452d-c086-1e413f4ae833"
      },
      "execution_count": 6,
      "outputs": [
        {
          "output_type": "stream",
          "name": "stdout",
          "text": [
            "Found 2559 images belonging to 3 classes.\n",
            "Found 283 images belonging to 3 classes.\n"
          ]
        }
      ]
    },
    {
      "cell_type": "code",
      "source": [
        "model = Sequential()\n",
        "\n",
        "model.add(Conv2D(32,(3,3), activation='relu', kernel_initializer='he_uniform', padding='same', input_shape=(128,128,3)))\n",
        "model.add(MaxPooling2D((2,2)))\n",
        "\n",
        "model.add(Conv2D(64,(3,3), activation='relu', kernel_initializer='he_uniform', padding='same'))\n",
        "model.add(Conv2D(64,(3,3), activation='relu', kernel_initializer='he_uniform', padding='same'))\n",
        "model.add(MaxPooling2D((2,2)))\n",
        "\n",
        "model.add(Conv2D(128,(3,3), activation='relu', kernel_initializer='he_uniform', padding='same'))\n",
        "model.add(Conv2D(128,(3,3), activation='relu', kernel_initializer='he_uniform', padding='same'))\n",
        "model.add(MaxPooling2D((2,2)))\n",
        "\n",
        "model.add(Conv2D(256,(3,3), activation='relu', kernel_initializer='he_uniform', padding='same'))\n",
        "model.add(Conv2D(256,(3,3), activation='relu', kernel_initializer='he_uniform', padding='same'))\n",
        "model.add(MaxPooling2D((2,2)))\n",
        "\n",
        "model.add(Flatten())\n",
        "model.add(Dense(256, activation='relu'))\n",
        "model.add(Dropout(0.25))\n",
        "model.add(Dense(3, activation='softmax'))\n",
        "model.summary()"
      ],
      "metadata": {
        "colab": {
          "base_uri": "https://localhost:8080/"
        },
        "id": "UigwBjzmNBI9",
        "outputId": "87564392-baf7-42f3-b090-f8446404f6bb"
      },
      "execution_count": 7,
      "outputs": [
        {
          "output_type": "stream",
          "name": "stdout",
          "text": [
            "Model: \"sequential\"\n",
            "_________________________________________________________________\n",
            " Layer (type)                Output Shape              Param #   \n",
            "=================================================================\n",
            " conv2d (Conv2D)             (None, 128, 128, 32)      896       \n",
            "                                                                 \n",
            " max_pooling2d (MaxPooling2D  (None, 64, 64, 32)       0         \n",
            " )                                                               \n",
            "                                                                 \n",
            " conv2d_1 (Conv2D)           (None, 64, 64, 64)        18496     \n",
            "                                                                 \n",
            " conv2d_2 (Conv2D)           (None, 64, 64, 64)        36928     \n",
            "                                                                 \n",
            " max_pooling2d_1 (MaxPooling  (None, 32, 32, 64)       0         \n",
            " 2D)                                                             \n",
            "                                                                 \n",
            " conv2d_3 (Conv2D)           (None, 32, 32, 128)       73856     \n",
            "                                                                 \n",
            " conv2d_4 (Conv2D)           (None, 32, 32, 128)       147584    \n",
            "                                                                 \n",
            " max_pooling2d_2 (MaxPooling  (None, 16, 16, 128)      0         \n",
            " 2D)                                                             \n",
            "                                                                 \n",
            " conv2d_5 (Conv2D)           (None, 16, 16, 256)       295168    \n",
            "                                                                 \n",
            " conv2d_6 (Conv2D)           (None, 16, 16, 256)       590080    \n",
            "                                                                 \n",
            " max_pooling2d_3 (MaxPooling  (None, 8, 8, 256)        0         \n",
            " 2D)                                                             \n",
            "                                                                 \n",
            " flatten (Flatten)           (None, 16384)             0         \n",
            "                                                                 \n",
            " dense (Dense)               (None, 256)               4194560   \n",
            "                                                                 \n",
            " dropout (Dropout)           (None, 256)               0         \n",
            "                                                                 \n",
            " dense_1 (Dense)             (None, 3)                 771       \n",
            "                                                                 \n",
            "=================================================================\n",
            "Total params: 5,358,339\n",
            "Trainable params: 5,358,339\n",
            "Non-trainable params: 0\n",
            "_________________________________________________________________\n"
          ]
        }
      ]
    },
    {
      "cell_type": "code",
      "source": [
        "model.compile(loss='categorical_crossentropy', optimizer='adam', metrics=['accuracy'])\n",
        "history = model.fit(training_set, batch_size=32, epochs=50, verbose=1, validation_data=validation_set)"
      ],
      "metadata": {
        "colab": {
          "base_uri": "https://localhost:8080/"
        },
        "id": "6w1lmAdUNEiN",
        "outputId": "cd1b965b-68eb-42af-a7d3-c2ca06da3aa8"
      },
      "execution_count": 8,
      "outputs": [
        {
          "output_type": "stream",
          "name": "stdout",
          "text": [
            "Epoch 1/50\n",
            "80/80 [==============================] - 577s 7s/step - loss: 1.3698 - accuracy: 0.3705 - val_loss: 1.1090 - val_accuracy: 0.3675\n",
            "Epoch 2/50\n",
            "80/80 [==============================] - 278s 3s/step - loss: 1.0911 - accuracy: 0.3826 - val_loss: 1.0917 - val_accuracy: 0.3428\n",
            "Epoch 3/50\n",
            "80/80 [==============================] - 280s 3s/step - loss: 1.0745 - accuracy: 0.4115 - val_loss: 1.0809 - val_accuracy: 0.3922\n",
            "Epoch 4/50\n",
            "80/80 [==============================] - 277s 3s/step - loss: 1.0313 - accuracy: 0.4662 - val_loss: 1.0763 - val_accuracy: 0.3958\n",
            "Epoch 5/50\n",
            "80/80 [==============================] - 278s 3s/step - loss: 0.9718 - accuracy: 0.5178 - val_loss: 1.0354 - val_accuracy: 0.4912\n",
            "Epoch 6/50\n",
            "80/80 [==============================] - 277s 3s/step - loss: 0.9047 - accuracy: 0.5662 - val_loss: 0.9587 - val_accuracy: 0.4841\n",
            "Epoch 7/50\n",
            "80/80 [==============================] - 279s 3s/step - loss: 0.7991 - accuracy: 0.6198 - val_loss: 0.9570 - val_accuracy: 0.5300\n",
            "Epoch 8/50\n",
            "80/80 [==============================] - 276s 3s/step - loss: 0.6913 - accuracy: 0.7003 - val_loss: 0.8811 - val_accuracy: 0.5760\n",
            "Epoch 9/50\n",
            "80/80 [==============================] - 279s 3s/step - loss: 0.5976 - accuracy: 0.7425 - val_loss: 0.8950 - val_accuracy: 0.6007\n",
            "Epoch 10/50\n",
            "80/80 [==============================] - 278s 3s/step - loss: 0.4873 - accuracy: 0.8030 - val_loss: 0.7851 - val_accuracy: 0.6466\n",
            "Epoch 11/50\n",
            "80/80 [==============================] - 280s 3s/step - loss: 0.4000 - accuracy: 0.8402 - val_loss: 0.9046 - val_accuracy: 0.6643\n",
            "Epoch 12/50\n",
            "80/80 [==============================] - 277s 3s/step - loss: 0.3305 - accuracy: 0.8753 - val_loss: 0.8063 - val_accuracy: 0.7173\n",
            "Epoch 13/50\n",
            "80/80 [==============================] - 276s 3s/step - loss: 0.2729 - accuracy: 0.8961 - val_loss: 0.7814 - val_accuracy: 0.7208\n",
            "Epoch 14/50\n",
            "80/80 [==============================] - 280s 3s/step - loss: 0.2642 - accuracy: 0.9011 - val_loss: 0.7715 - val_accuracy: 0.7173\n",
            "Epoch 15/50\n",
            "80/80 [==============================] - 276s 3s/step - loss: 0.1770 - accuracy: 0.9394 - val_loss: 0.8781 - val_accuracy: 0.7350\n",
            "Epoch 16/50\n",
            "80/80 [==============================] - 277s 3s/step - loss: 0.1394 - accuracy: 0.9422 - val_loss: 0.9610 - val_accuracy: 0.7279\n",
            "Epoch 17/50\n",
            "80/80 [==============================] - 275s 3s/step - loss: 0.1731 - accuracy: 0.9429 - val_loss: 0.8811 - val_accuracy: 0.7562\n",
            "Epoch 18/50\n",
            "80/80 [==============================] - 276s 3s/step - loss: 0.1526 - accuracy: 0.9461 - val_loss: 0.8946 - val_accuracy: 0.7350\n",
            "Epoch 19/50\n",
            "80/80 [==============================] - 277s 3s/step - loss: 0.1150 - accuracy: 0.9609 - val_loss: 1.0518 - val_accuracy: 0.7633\n",
            "Epoch 20/50\n",
            "80/80 [==============================] - 275s 3s/step - loss: 0.0890 - accuracy: 0.9664 - val_loss: 0.9223 - val_accuracy: 0.7456\n",
            "Epoch 21/50\n",
            "80/80 [==============================] - 277s 3s/step - loss: 0.0876 - accuracy: 0.9672 - val_loss: 1.0799 - val_accuracy: 0.8057\n",
            "Epoch 22/50\n",
            "80/80 [==============================] - 276s 3s/step - loss: 0.1008 - accuracy: 0.9660 - val_loss: 0.7279 - val_accuracy: 0.8057\n",
            "Epoch 23/50\n",
            "80/80 [==============================] - 277s 3s/step - loss: 0.0757 - accuracy: 0.9758 - val_loss: 1.0377 - val_accuracy: 0.7703\n",
            "Epoch 24/50\n",
            "80/80 [==============================] - 275s 3s/step - loss: 0.0814 - accuracy: 0.9773 - val_loss: 0.9087 - val_accuracy: 0.7845\n",
            "Epoch 25/50\n",
            "80/80 [==============================] - 277s 3s/step - loss: 0.0985 - accuracy: 0.9695 - val_loss: 0.8939 - val_accuracy: 0.8021\n",
            "Epoch 26/50\n",
            "80/80 [==============================] - 278s 3s/step - loss: 0.0632 - accuracy: 0.9750 - val_loss: 1.0549 - val_accuracy: 0.7880\n",
            "Epoch 27/50\n",
            "80/80 [==============================] - 278s 3s/step - loss: 0.0653 - accuracy: 0.9809 - val_loss: 1.1152 - val_accuracy: 0.7880\n",
            "Epoch 28/50\n",
            "80/80 [==============================] - 277s 3s/step - loss: 0.0519 - accuracy: 0.9828 - val_loss: 1.2314 - val_accuracy: 0.7845\n",
            "Epoch 29/50\n",
            "80/80 [==============================] - 277s 3s/step - loss: 0.0674 - accuracy: 0.9762 - val_loss: 1.1420 - val_accuracy: 0.7527\n",
            "Epoch 30/50\n",
            "80/80 [==============================] - 277s 3s/step - loss: 0.0702 - accuracy: 0.9750 - val_loss: 1.0138 - val_accuracy: 0.7845\n",
            "Epoch 31/50\n",
            "80/80 [==============================] - 279s 3s/step - loss: 0.0395 - accuracy: 0.9875 - val_loss: 0.9863 - val_accuracy: 0.8057\n",
            "Epoch 32/50\n",
            "80/80 [==============================] - 278s 3s/step - loss: 0.0333 - accuracy: 0.9863 - val_loss: 1.4132 - val_accuracy: 0.7845\n",
            "Epoch 33/50\n",
            "80/80 [==============================] - 279s 3s/step - loss: 0.0741 - accuracy: 0.9781 - val_loss: 0.7521 - val_accuracy: 0.8163\n",
            "Epoch 34/50\n",
            "80/80 [==============================] - 277s 3s/step - loss: 0.0394 - accuracy: 0.9867 - val_loss: 1.1174 - val_accuracy: 0.7915\n",
            "Epoch 35/50\n",
            "80/80 [==============================] - 278s 3s/step - loss: 0.0770 - accuracy: 0.9742 - val_loss: 0.8973 - val_accuracy: 0.7845\n",
            "Epoch 36/50\n",
            "80/80 [==============================] - 276s 3s/step - loss: 0.0448 - accuracy: 0.9898 - val_loss: 0.9845 - val_accuracy: 0.8127\n",
            "Epoch 37/50\n",
            "80/80 [==============================] - 279s 3s/step - loss: 0.0363 - accuracy: 0.9898 - val_loss: 0.7559 - val_accuracy: 0.8233\n",
            "Epoch 38/50\n",
            "80/80 [==============================] - 276s 3s/step - loss: 0.0189 - accuracy: 0.9941 - val_loss: 1.0769 - val_accuracy: 0.8127\n",
            "Epoch 39/50\n",
            "80/80 [==============================] - 278s 3s/step - loss: 0.0169 - accuracy: 0.9930 - val_loss: 1.1250 - val_accuracy: 0.8163\n",
            "Epoch 40/50\n",
            "80/80 [==============================] - 277s 3s/step - loss: 0.0614 - accuracy: 0.9836 - val_loss: 1.0992 - val_accuracy: 0.8021\n",
            "Epoch 41/50\n",
            "80/80 [==============================] - 277s 3s/step - loss: 0.0922 - accuracy: 0.9750 - val_loss: 1.1189 - val_accuracy: 0.7774\n",
            "Epoch 42/50\n",
            "80/80 [==============================] - 276s 3s/step - loss: 0.0713 - accuracy: 0.9777 - val_loss: 0.5593 - val_accuracy: 0.8375\n",
            "Epoch 43/50\n",
            "80/80 [==============================] - 279s 3s/step - loss: 0.0323 - accuracy: 0.9910 - val_loss: 0.7930 - val_accuracy: 0.8516\n",
            "Epoch 44/50\n",
            "80/80 [==============================] - 277s 3s/step - loss: 0.0254 - accuracy: 0.9922 - val_loss: 0.9612 - val_accuracy: 0.8092\n",
            "Epoch 45/50\n",
            "80/80 [==============================] - 280s 3s/step - loss: 0.0118 - accuracy: 0.9961 - val_loss: 0.9922 - val_accuracy: 0.8304\n",
            "Epoch 46/50\n",
            "80/80 [==============================] - 279s 3s/step - loss: 0.0294 - accuracy: 0.9906 - val_loss: 1.1033 - val_accuracy: 0.8233\n",
            "Epoch 47/50\n",
            "80/80 [==============================] - 279s 3s/step - loss: 0.0059 - accuracy: 0.9992 - val_loss: 1.1740 - val_accuracy: 0.8375\n",
            "Epoch 48/50\n",
            "80/80 [==============================] - 277s 3s/step - loss: 0.0076 - accuracy: 0.9969 - val_loss: 1.2216 - val_accuracy: 0.8410\n",
            "Epoch 49/50\n",
            "80/80 [==============================] - 280s 3s/step - loss: 0.0175 - accuracy: 0.9941 - val_loss: 1.4852 - val_accuracy: 0.7915\n",
            "Epoch 50/50\n",
            "80/80 [==============================] - 277s 3s/step - loss: 0.0906 - accuracy: 0.9762 - val_loss: 0.8554 - val_accuracy: 0.7986\n"
          ]
        }
      ]
    },
    {
      "cell_type": "code",
      "source": [
        "fig , ax = plt.subplots(1,2, figsize=(14,5))\n",
        "ax[0].plot(history.history['accuracy'])\n",
        "ax[0].plot(history.history['val_accuracy'])\n",
        "ax[0].set_title('model accuracy')\n",
        "ax[0].set_ylabel('accuracy')\n",
        "ax[0].set_xlabel('epoch')\n",
        "ax[0].legend(['train', 'test'], loc='upper left')\n",
        "\n",
        "ax[1].plot(history.history['loss'])\n",
        "ax[1].plot(history.history['val_loss'])\n",
        "ax[1].set_title('model loss')\n",
        "ax[1].set_ylabel('loss')\n",
        "ax[1].set_xlabel('epoch')\n",
        "ax[1].legend(['train', 'test'], loc='upper left')\n",
        "plt.show()"
      ],
      "metadata": {
        "id": "PMZanwfQNG41",
        "colab": {
          "base_uri": "https://localhost:8080/",
          "height": 350
        },
        "outputId": "3d760411-70ad-4da9-fab5-2e3780550f5c"
      },
      "execution_count": 9,
      "outputs": [
        {
          "output_type": "display_data",
          "data": {
            "text/plain": [
              "<Figure size 1008x360 with 2 Axes>"
            ],
            "image/png": "[encoded data removed]"
          },
          "metadata": {
            "needs_background": "light"
          }
        }
      ]
    },
    {
      "cell_type": "code",
      "source": [
        "print(\"training_accuracy\", history.history['accuracy'][-1])\n",
        "print(\"validation_accuracy\", history.history['val_accuracy'][-1])"
      ],
      "metadata": {
        "id": "wUZ6yW7jNIXl",
        "colab": {
          "base_uri": "https://localhost:8080/"
        },
        "outputId": "968181fe-db5f-478e-8b79-90e815b4b7d9"
      },
      "execution_count": 10,
      "outputs": [
        {
          "output_type": "stream",
          "name": "stdout",
          "text": [
            "training_accuracy 0.9761625528335571\n",
            "validation_accuracy 0.7985865473747253\n"
          ]
        }
      ]
    },
    {
      "cell_type": "code",
      "source": [
        "from tensorflow.keras.preprocessing.image import ImageDataGenerator\n",
        "test_datagen = ImageDataGenerator(rescale=1/255)\n",
        "test_set = test_datagen.flow_from_directory('/content/drive/MyDrive/data_breast_cancer/test_data',\n",
        "                                               target_size = (128,128),\n",
        "                                               batch_size = 32)\n",
        "model.evaluate(test_set)"
      ],
      "metadata": {
        "colab": {
          "base_uri": "https://localhost:8080/"
        },
        "id": "q3qFc3QF78K4",
        "outputId": "d53d84e9-9212-4e5c-ad20-ceeec48dca79"
      },
      "execution_count": 11,
      "outputs": [
        {
          "output_type": "stream",
          "name": "stdout",
          "text": [
            "Found 30 images belonging to 3 classes.\n",
            "1/1 [==============================] - 1s 1s/step - loss: 1.5861 - accuracy: 0.8000\n"
          ]
        },
        {
          "output_type": "execute_result",
          "data": {
            "text/plain": [
              "[1.5860610008239746, 0.800000011920929]"
            ]
          },
          "metadata": {},
          "execution_count": 11
        }
      ]
    },
    {
      "cell_type": "code",
      "source": [
        "model.save(\"cancer.h5\")"
      ],
      "metadata": {
        "id": "_BPnggSINJ71"
      },
      "execution_count": 12,
      "outputs": []
    },
    {
      "cell_type": "code",
      "source": [
        "training_set.class_indices"
      ],
      "metadata": {
        "id": "p0qBjnEsNLfu",
        "colab": {
          "base_uri": "https://localhost:8080/"
        },
        "outputId": "4514a42d-9980-477e-b461-010849243ba1"
      },
      "execution_count": 23,
      "outputs": [
        {
          "output_type": "execute_result",
          "data": {
            "text/plain": [
              "{'benign_cases': 0, 'malignant_cases': 1, 'normal_cases': 2}"
            ]
          },
          "metadata": {},
          "execution_count": 23
        }
      ]
    },
    {
      "cell_type": "code",
      "source": [
        "label = ['benign_cases', 'malignant_cases', 'normal_cases']"
      ],
      "metadata": {
        "id": "9X_p9RMTNOOf"
      },
      "execution_count": 14,
      "outputs": []
    },
    {
      "cell_type": "code",
      "source": [
        "img = load_img('/content/drive/MyDrive/data_breast_cancer/test_data/normal_cases/bth (1).png', target_size = (128,128,3))\n",
        "plt.imshow(img)\n",
        "img = img_to_array(img)\n",
        "img = img.reshape(1,128,128,3)\n",
        "img = img.astype('float32')\n",
        "img = img/255\n",
        "print(label[np.argmax(model.predict(img))])"
      ],
      "metadata": {
        "id": "LRhm353SNP-P",
        "colab": {
          "base_uri": "https://localhost:8080/",
          "height": 285
        },
        "outputId": "8c6de666-b832-425b-8a2e-0c1dceec6382"
      },
      "execution_count": 15,
      "outputs": [
        {
          "output_type": "stream",
          "name": "stdout",
          "text": [
            "normal_cases\n"
          ]
        },
        {
          "output_type": "display_data",
          "data": {
            "text/plain": [
              "<Figure size 432x288 with 1 Axes>"
            ],
            "image/png": "[encoded data removed]"
          },
          "metadata": {
            "needs_background": "light"
          }
        }
      ]
    },
    {
      "cell_type": "code",
      "source": [
        "for i in range(10):\n",
        "  i=i+1\n",
        "  img = load_img('/content/drive/MyDrive/data_breast_cancer/test_data/benign_cases/nhe ('+str(i)+').png', target_size = (128,128,3))\n",
        "  img = img_to_array(img)\n",
        "  img = img.reshape(1,128,128,3)\n",
        "  img = img.astype('float32')\n",
        "  img = img/255\n",
        "  print(label[np.argmax(model.predict(img))])"
      ],
      "metadata": {
        "colab": {
          "base_uri": "https://localhost:8080/"
        },
        "id": "P3RX--RaU2HT",
        "outputId": "ef969520-c33b-47d7-edd5-ff8d8a083878"
      },
      "execution_count": 16,
      "outputs": [
        {
          "output_type": "stream",
          "name": "stdout",
          "text": [
            "benign_cases\n",
            "benign_cases\n",
            "benign_cases\n",
            "benign_cases\n",
            "benign_cases\n",
            "normal_cases\n",
            "benign_cases\n",
            "malignant_cases\n",
            "benign_cases\n",
            "benign_cases\n"
          ]
        }
      ]
    },
    {
      "cell_type": "code",
      "source": [
        "for i in range(10):\n",
        "  i=i+1\n",
        "  img = load_img('/content/drive/MyDrive/data_breast_cancer/test_data/malignant_cases/nang ('+str(i)+').png', target_size = (128,128,3))\n",
        "  img = img_to_array(img)\n",
        "  img = img.reshape(1,128,128,3)\n",
        "  img = img.astype('float32')\n",
        "  img = img/255\n",
        "  print(label[np.argmax(model.predict(img))])"
      ],
      "metadata": {
        "colab": {
          "base_uri": "https://localhost:8080/"
        },
        "id": "guV-uexJU5ue",
        "outputId": "95315a4a-e9c1-40f2-afb5-4bf6af1e5593"
      },
      "execution_count": 17,
      "outputs": [
        {
          "output_type": "stream",
          "name": "stdout",
          "text": [
            "malignant_cases\n",
            "normal_cases\n",
            "malignant_cases\n",
            "normal_cases\n",
            "malignant_cases\n",
            "malignant_cases\n",
            "malignant_cases\n",
            "malignant_cases\n",
            "malignant_cases\n",
            "malignant_cases\n"
          ]
        }
      ]
    },
    {
      "cell_type": "code",
      "source": [
        "for i in range(10):\n",
        "  i=i+1\n",
        "  img = load_img('/content/drive/MyDrive/data_breast_cancer/test_data/normal_cases/bth ('+str(i)+').png', target_size = (128,128,3))\n",
        "  img = img_to_array(img)\n",
        "  img = img.reshape(1,128,128,3)\n",
        "  img = img.astype('float32')\n",
        "  img = img/255\n",
        "  print(label[np.argmax(model.predict(img))])"
      ],
      "metadata": {
        "colab": {
          "base_uri": "https://localhost:8080/"
        },
        "id": "86TWtf08U8G7",
        "outputId": "dbe4247d-de39-421b-9e9d-1fc07407fac8"
      },
      "execution_count": 18,
      "outputs": [
        {
          "output_type": "stream",
          "name": "stdout",
          "text": [
            "normal_cases\n",
            "normal_cases\n",
            "benign_cases\n",
            "normal_cases\n",
            "normal_cases\n",
            "normal_cases\n",
            "benign_cases\n",
            "normal_cases\n",
            "normal_cases\n",
            "normal_cases\n"
          ]
        }
      ]
    },
    {
      "cell_type": "code",
      "source": [
        "import tensorflow as tf\n",
        "converter = tf.lite.TFLiteConverter.from_keras_model(model)\n",
        "tflite_model = converter.convert()\n",
        "\n",
        "with open(\"cancer.tflite\", 'wb') as f:\n",
        "  f.write(tflite_model)"
      ],
      "metadata": {
        "colab": {
          "base_uri": "https://localhost:8080/"
        },
        "id": "qIqcr29w2jQb",
        "outputId": "84987aaf-d551-42ff-a46a-8dc8e0ffda3d"
      },
      "execution_count": 26,
      "outputs": [
        {
          "output_type": "stream",
          "name": "stdout",
          "text": [
            "INFO:tensorflow:Assets written to: /tmp/tmp5ypzy1yj/assets\n"
          ]
        },
        {
          "output_type": "stream",
          "name": "stderr",
          "text": [
            "INFO:tensorflow:Assets written to: /tmp/tmp5ypzy1yj/assets\n",
            "WARNING:absl:Buffer deduplication procedure will be skipped when flatbuffer library is not properly loaded\n"
          ]
        }
      ]
    }
  ]
}