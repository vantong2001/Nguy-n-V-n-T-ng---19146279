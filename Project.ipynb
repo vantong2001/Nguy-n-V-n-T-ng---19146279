{
  "cells": [
    {
      "cell_type": "markdown",
      "metadata": {
        "id": "view-in-github",
        "colab_type": "text"
      },
      "source": [
        "<a href=\"https://colab.research.google.com/github/vantong2001/Nguyen-Van-Tong---19146279/blob/main/Project.ipynb\" target=\"_parent\"><img src=\"https://colab.research.google.com/assets/colab-badge.svg\" alt=\"Open In Colab\"/></a>"
      ]
    },
    {
      "cell_type": "code",
      "execution_count": null,
      "metadata": {
        "id": "AGAHswzb9qNu"
      },
      "outputs": [],
      "source": [
        "import numpy as np\n",
        "import matplotlib.pyplot as plt\n",
        "from tensorflow import keras\n",
        "from tensorflow.keras.models import load_model\n",
        "from tensorflow.keras.utils import load_img, img_to_array, to_categorical\n",
        "from tensorflow.keras.preprocessing import image\n",
        "from tensorflow.keras.optimizers import SGD, Adam, RMSprop\n",
        "from tensorflow.keras.preprocessing.image import ImageDataGenerator\n",
        "from keras.models import Sequential\n",
        "from keras.utils import np_utils\n",
        "from keras.layers import Dense, Activation, Dropout, LSTM, BatchNormalization, Flatten\n",
        "from keras.layers.convolutional import Conv2D, MaxPooling2D\n",
        "from google.colab import drive"
      ]
    },
    {
      "cell_type": "code",
      "execution_count": null,
      "metadata": {
        "colab": {
          "base_uri": "https://localhost:8080/"
        },
        "id": "hOU7KaPM92Ff",
        "outputId": "c777ce7f-61b5-43fa-8541-6f35a86e83aa"
      },
      "outputs": [
        {
          "output_type": "stream",
          "name": "stdout",
          "text": [
            "Drive already mounted at /content/drive; to attempt to forcibly remount, call drive.mount(\"/content/drive\", force_remount=True).\n"
          ]
        }
      ],
      "source": [
        "drive.mount('/content/drive')"
      ]
    },
    {
      "cell_type": "code",
      "execution_count": null,
      "metadata": {
        "id": "9zWcrCWQ94jH"
      },
      "outputs": [],
      "source": [
        "train_datagen = ImageDataGenerator(rescale=1/255, validation_split=0.1)"
      ]
    },
    {
      "cell_type": "code",
      "execution_count": null,
      "metadata": {
        "colab": {
          "base_uri": "https://localhost:8080/"
        },
        "id": "_Lv5-xXP96jG",
        "outputId": "b052700f-d5af-47aa-94ab-f1f06a7b6be9"
      },
      "outputs": [
        {
          "output_type": "stream",
          "name": "stdout",
          "text": [
            "Found 2559 images belonging to 3 classes.\n",
            "Found 283 images belonging to 3 classes.\n"
          ]
        }
      ],
      "source": [
        "training_set = train_datagen.flow_from_directory('/content/drive/MyDrive/data_breast_cancer/train_data',\n",
        "                                               target_size = (128,128),\n",
        "                                               batch_size = 32,\n",
        "                                               class_mode ='categorical',\n",
        "                                               subset = 'training',\n",
        "                                               shuffle = True)\n",
        "validation_set = train_datagen.flow_from_directory('/content/drive/MyDrive/data_breast_cancer/train_data',\n",
        "                                               target_size = (128,128),\n",
        "                                               batch_size = 32,\n",
        "                                               class_mode ='categorical',\n",
        "                                               subset = 'validation',\n",
        "                                               shuffle = True)"
      ]
    },
    {
      "cell_type": "code",
      "execution_count": null,
      "metadata": {
        "id": "FEP-MEqO-PKM",
        "colab": {
          "base_uri": "https://localhost:8080/"
        },
        "outputId": "3c94e500-83dd-4ca6-cc8f-e5da17776932"
      },
      "outputs": [
        {
          "output_type": "stream",
          "name": "stdout",
          "text": [
            "Model: \"sequential\"\n",
            "_________________________________________________________________\n",
            " Layer (type)                Output Shape              Param #   \n",
            "=================================================================\n",
            " conv2d (Conv2D)             (None, 128, 128, 32)      896       \n",
            "                                                                 \n",
            " max_pooling2d (MaxPooling2D  (None, 64, 64, 32)       0         \n",
            " )                                                               \n",
            "                                                                 \n",
            " conv2d_1 (Conv2D)           (None, 64, 64, 64)        18496     \n",
            "                                                                 \n",
            " conv2d_2 (Conv2D)           (None, 64, 64, 64)        36928     \n",
            "                                                                 \n",
            " max_pooling2d_1 (MaxPooling  (None, 32, 32, 64)       0         \n",
            " 2D)                                                             \n",
            "                                                                 \n",
            " conv2d_3 (Conv2D)           (None, 32, 32, 128)       73856     \n",
            "                                                                 \n",
            " conv2d_4 (Conv2D)           (None, 32, 32, 128)       147584    \n",
            "                                                                 \n",
            " max_pooling2d_2 (MaxPooling  (None, 16, 16, 128)      0         \n",
            " 2D)                                                             \n",
            "                                                                 \n",
            " conv2d_5 (Conv2D)           (None, 16, 16, 256)       295168    \n",
            "                                                                 \n",
            " conv2d_6 (Conv2D)           (None, 16, 16, 256)       590080    \n",
            "                                                                 \n",
            " max_pooling2d_3 (MaxPooling  (None, 8, 8, 256)        0         \n",
            " 2D)                                                             \n",
            "                                                                 \n",
            " flatten (Flatten)           (None, 16384)             0         \n",
            "                                                                 \n",
            " dense (Dense)               (None, 256)               4194560   \n",
            "                                                                 \n",
            " dropout (Dropout)           (None, 256)               0         \n",
            "                                                                 \n",
            " dense_1 (Dense)             (None, 3)                 771       \n",
            "                                                                 \n",
            "=================================================================\n",
            "Total params: 5,358,339\n",
            "Trainable params: 5,358,339\n",
            "Non-trainable params: 0\n",
            "_________________________________________________________________\n"
          ]
        }
      ],
      "source": [
        "model = Sequential()\n",
        "\n",
        "model.add(Conv2D(32,(3,3), activation='relu', kernel_initializer='he_uniform', padding='same', input_shape=(128,128,3)))\n",
        "model.add(MaxPooling2D((2,2)))\n",
        "\n",
        "model.add(Conv2D(64,(3,3), activation='relu', kernel_initializer='he_uniform', padding='same'))\n",
        "model.add(Conv2D(64,(3,3), activation='relu', kernel_initializer='he_uniform', padding='same'))\n",
        "model.add(MaxPooling2D((2,2)))\n",
        "\n",
        "model.add(Conv2D(128,(3,3), activation='relu', kernel_initializer='he_uniform', padding='same'))\n",
        "model.add(Conv2D(128,(3,3), activation='relu', kernel_initializer='he_uniform', padding='same'))\n",
        "model.add(MaxPooling2D((2,2)))\n",
        "\n",
        "model.add(Conv2D(256,(3,3), activation='relu', kernel_initializer='he_uniform', padding='same'))\n",
        "model.add(Conv2D(256,(3,3), activation='relu', kernel_initializer='he_uniform', padding='same'))\n",
        "model.add(MaxPooling2D((2,2)))\n",
        "\n",
        "model.add(Flatten())\n",
        "model.add(Dense(256, activation='relu'))\n",
        "model.add(Dropout(0.25))\n",
        "model.add(Dense(3, activation='softmax'))\n",
        "model.summary()"
      ]
    },
    {
      "cell_type": "code",
      "execution_count": null,
      "metadata": {
        "colab": {
          "base_uri": "https://localhost:8080/"
        },
        "id": "c7n5IvFL-TGy",
        "outputId": "ca5eb236-4266-4a00-fe31-18386a08f456"
      },
      "outputs": [
        {
          "output_type": "stream",
          "name": "stdout",
          "text": [
            "Epoch 1/100\n",
            "80/80 [==============================] - 451s 5s/step - loss: 1.3132 - accuracy: 0.3689 - val_loss: 1.0994 - val_accuracy: 0.3428\n",
            "Epoch 2/100\n",
            "80/80 [==============================] - 60s 757ms/step - loss: 1.0891 - accuracy: 0.3884 - val_loss: 1.1540 - val_accuracy: 0.3286\n",
            "Epoch 3/100\n",
            "80/80 [==============================] - 61s 759ms/step - loss: 1.0804 - accuracy: 0.3931 - val_loss: 1.1371 - val_accuracy: 0.3569\n",
            "Epoch 4/100\n",
            "80/80 [==============================] - 60s 749ms/step - loss: 1.0630 - accuracy: 0.4463 - val_loss: 1.1465 - val_accuracy: 0.3216\n",
            "Epoch 5/100\n",
            "80/80 [==============================] - 60s 751ms/step - loss: 1.0482 - accuracy: 0.4564 - val_loss: 1.0913 - val_accuracy: 0.3357\n",
            "Epoch 6/100\n",
            "80/80 [==============================] - 61s 760ms/step - loss: 1.0160 - accuracy: 0.4912 - val_loss: 1.2276 - val_accuracy: 0.3852\n",
            "Epoch 7/100\n",
            "80/80 [==============================] - 60s 747ms/step - loss: 0.9638 - accuracy: 0.5307 - val_loss: 1.1593 - val_accuracy: 0.4276\n",
            "Epoch 8/100\n",
            "80/80 [==============================] - 60s 752ms/step - loss: 0.8825 - accuracy: 0.5795 - val_loss: 1.0176 - val_accuracy: 0.5124\n",
            "Epoch 9/100\n",
            "80/80 [==============================] - 60s 754ms/step - loss: 0.8007 - accuracy: 0.6311 - val_loss: 0.9779 - val_accuracy: 0.5442\n",
            "Epoch 10/100\n",
            "80/80 [==============================] - 61s 764ms/step - loss: 0.6730 - accuracy: 0.7120 - val_loss: 0.9126 - val_accuracy: 0.5654\n",
            "Epoch 11/100\n",
            "80/80 [==============================] - 60s 745ms/step - loss: 0.5606 - accuracy: 0.7589 - val_loss: 0.9816 - val_accuracy: 0.6148\n",
            "Epoch 12/100\n",
            "80/80 [==============================] - 59s 732ms/step - loss: 0.4491 - accuracy: 0.8218 - val_loss: 1.1336 - val_accuracy: 0.6042\n",
            "Epoch 13/100\n",
            "80/80 [==============================] - 59s 733ms/step - loss: 0.3601 - accuracy: 0.8554 - val_loss: 0.8562 - val_accuracy: 0.6608\n",
            "Epoch 14/100\n",
            "80/80 [==============================] - 59s 740ms/step - loss: 0.3280 - accuracy: 0.8671 - val_loss: 1.2210 - val_accuracy: 0.6396\n",
            "Epoch 15/100\n",
            "80/80 [==============================] - 60s 746ms/step - loss: 0.2455 - accuracy: 0.9105 - val_loss: 0.7642 - val_accuracy: 0.7491\n",
            "Epoch 16/100\n",
            "80/80 [==============================] - 59s 733ms/step - loss: 0.1757 - accuracy: 0.9347 - val_loss: 0.9035 - val_accuracy: 0.7456\n",
            "Epoch 17/100\n",
            "80/80 [==============================] - 59s 736ms/step - loss: 0.1732 - accuracy: 0.9343 - val_loss: 0.8633 - val_accuracy: 0.7314\n",
            "Epoch 18/100\n",
            "80/80 [==============================] - 59s 738ms/step - loss: 0.1632 - accuracy: 0.9410 - val_loss: 0.9903 - val_accuracy: 0.7138\n",
            "Epoch 19/100\n",
            "80/80 [==============================] - 59s 737ms/step - loss: 0.1479 - accuracy: 0.9500 - val_loss: 0.9246 - val_accuracy: 0.7774\n",
            "Epoch 20/100\n",
            "80/80 [==============================] - 60s 749ms/step - loss: 0.1032 - accuracy: 0.9625 - val_loss: 0.8408 - val_accuracy: 0.7774\n",
            "Epoch 21/100\n",
            "80/80 [==============================] - 59s 739ms/step - loss: 0.0867 - accuracy: 0.9676 - val_loss: 0.9421 - val_accuracy: 0.7456\n",
            "Epoch 22/100\n",
            "80/80 [==============================] - 59s 734ms/step - loss: 0.0733 - accuracy: 0.9746 - val_loss: 1.2585 - val_accuracy: 0.7208\n",
            "Epoch 23/100\n",
            "80/80 [==============================] - 59s 738ms/step - loss: 0.0936 - accuracy: 0.9656 - val_loss: 0.9721 - val_accuracy: 0.7527\n",
            "Epoch 24/100\n",
            "80/80 [==============================] - 60s 756ms/step - loss: 0.1001 - accuracy: 0.9726 - val_loss: 0.9241 - val_accuracy: 0.7527\n",
            "Epoch 25/100\n",
            "80/80 [==============================] - 59s 737ms/step - loss: 0.0774 - accuracy: 0.9738 - val_loss: 1.1102 - val_accuracy: 0.7703\n",
            "Epoch 26/100\n",
            "80/80 [==============================] - 59s 734ms/step - loss: 0.0499 - accuracy: 0.9844 - val_loss: 0.9644 - val_accuracy: 0.7951\n",
            "Epoch 27/100\n",
            "80/80 [==============================] - 59s 734ms/step - loss: 0.0817 - accuracy: 0.9754 - val_loss: 0.9352 - val_accuracy: 0.7845\n",
            "Epoch 28/100\n",
            "80/80 [==============================] - 60s 751ms/step - loss: 0.0611 - accuracy: 0.9789 - val_loss: 0.9622 - val_accuracy: 0.7562\n",
            "Epoch 29/100\n",
            "80/80 [==============================] - 59s 738ms/step - loss: 0.0407 - accuracy: 0.9883 - val_loss: 1.3389 - val_accuracy: 0.7633\n",
            "Epoch 30/100\n",
            "80/80 [==============================] - 58s 732ms/step - loss: 0.0407 - accuracy: 0.9879 - val_loss: 0.8761 - val_accuracy: 0.7845\n",
            "Epoch 31/100\n",
            "80/80 [==============================] - 58s 729ms/step - loss: 0.0563 - accuracy: 0.9820 - val_loss: 0.8904 - val_accuracy: 0.8163\n",
            "Epoch 32/100\n",
            "80/80 [==============================] - 60s 748ms/step - loss: 0.0371 - accuracy: 0.9887 - val_loss: 1.2286 - val_accuracy: 0.8021\n",
            "Epoch 33/100\n",
            "80/80 [==============================] - 59s 735ms/step - loss: 0.0348 - accuracy: 0.9879 - val_loss: 1.1647 - val_accuracy: 0.8269\n",
            "Epoch 34/100\n",
            "80/80 [==============================] - 59s 734ms/step - loss: 0.0494 - accuracy: 0.9820 - val_loss: 1.2986 - val_accuracy: 0.7739\n",
            "Epoch 35/100\n",
            "80/80 [==============================] - 59s 732ms/step - loss: 0.0627 - accuracy: 0.9812 - val_loss: 1.2030 - val_accuracy: 0.7986\n",
            "Epoch 36/100\n",
            "80/80 [==============================] - 60s 746ms/step - loss: 0.0931 - accuracy: 0.9719 - val_loss: 1.1838 - val_accuracy: 0.7739\n",
            "Epoch 37/100\n",
            "80/80 [==============================] - 59s 739ms/step - loss: 0.0824 - accuracy: 0.9730 - val_loss: 0.9382 - val_accuracy: 0.7915\n",
            "Epoch 38/100\n",
            "80/80 [==============================] - 59s 737ms/step - loss: 0.0313 - accuracy: 0.9883 - val_loss: 0.9918 - val_accuracy: 0.8127\n",
            "Epoch 39/100\n",
            "80/80 [==============================] - 59s 737ms/step - loss: 0.0790 - accuracy: 0.9816 - val_loss: 1.0330 - val_accuracy: 0.8021\n",
            "Epoch 40/100\n",
            "80/80 [==============================] - 60s 749ms/step - loss: 0.0197 - accuracy: 0.9945 - val_loss: 1.2978 - val_accuracy: 0.8198\n",
            "Epoch 41/100\n",
            "80/80 [==============================] - 59s 733ms/step - loss: 0.0356 - accuracy: 0.9879 - val_loss: 0.9345 - val_accuracy: 0.7809\n",
            "Epoch 42/100\n",
            "80/80 [==============================] - 58s 731ms/step - loss: 0.0328 - accuracy: 0.9902 - val_loss: 1.0134 - val_accuracy: 0.8057\n",
            "Epoch 43/100\n",
            "80/80 [==============================] - 58s 729ms/step - loss: 0.0127 - accuracy: 0.9953 - val_loss: 1.1253 - val_accuracy: 0.8198\n",
            "Epoch 44/100\n",
            "80/80 [==============================] - 59s 737ms/step - loss: 0.0299 - accuracy: 0.9926 - val_loss: 1.1707 - val_accuracy: 0.8057\n",
            "Epoch 45/100\n",
            "80/80 [==============================] - 58s 728ms/step - loss: 0.0464 - accuracy: 0.9844 - val_loss: 0.9968 - val_accuracy: 0.7774\n",
            "Epoch 46/100\n",
            "80/80 [==============================] - 58s 729ms/step - loss: 0.0179 - accuracy: 0.9953 - val_loss: 1.2058 - val_accuracy: 0.8057\n",
            "Epoch 47/100\n",
            "80/80 [==============================] - 58s 728ms/step - loss: 0.0244 - accuracy: 0.9941 - val_loss: 1.2130 - val_accuracy: 0.8127\n",
            "Epoch 48/100\n",
            "80/80 [==============================] - 59s 741ms/step - loss: 0.0605 - accuracy: 0.9875 - val_loss: 1.0136 - val_accuracy: 0.7986\n",
            "Epoch 49/100\n",
            "80/80 [==============================] - 58s 728ms/step - loss: 0.0665 - accuracy: 0.9828 - val_loss: 0.9899 - val_accuracy: 0.8057\n",
            "Epoch 50/100\n",
            "80/80 [==============================] - 59s 732ms/step - loss: 0.0426 - accuracy: 0.9887 - val_loss: 1.2240 - val_accuracy: 0.7633\n",
            "Epoch 51/100\n",
            "80/80 [==============================] - 58s 727ms/step - loss: 0.0517 - accuracy: 0.9855 - val_loss: 1.2792 - val_accuracy: 0.7951\n",
            "Epoch 52/100\n",
            "80/80 [==============================] - 59s 742ms/step - loss: 0.0200 - accuracy: 0.9918 - val_loss: 1.1985 - val_accuracy: 0.8339\n",
            "Epoch 53/100\n",
            "80/80 [==============================] - 58s 728ms/step - loss: 0.0320 - accuracy: 0.9879 - val_loss: 1.1302 - val_accuracy: 0.8198\n",
            "Epoch 54/100\n",
            "80/80 [==============================] - 58s 726ms/step - loss: 0.0685 - accuracy: 0.9816 - val_loss: 0.8982 - val_accuracy: 0.8198\n",
            "Epoch 55/100\n",
            "80/80 [==============================] - 58s 730ms/step - loss: 0.0361 - accuracy: 0.9898 - val_loss: 0.8716 - val_accuracy: 0.8410\n",
            "Epoch 56/100\n",
            "80/80 [==============================] - 60s 746ms/step - loss: 0.0131 - accuracy: 0.9941 - val_loss: 0.8385 - val_accuracy: 0.8551\n",
            "Epoch 57/100\n",
            "80/80 [==============================] - 59s 733ms/step - loss: 0.0120 - accuracy: 0.9957 - val_loss: 1.2489 - val_accuracy: 0.8198\n",
            "Epoch 58/100\n",
            "80/80 [==============================] - 58s 731ms/step - loss: 0.0340 - accuracy: 0.9906 - val_loss: 1.0662 - val_accuracy: 0.8127\n",
            "Epoch 59/100\n",
            "80/80 [==============================] - 58s 728ms/step - loss: 0.0414 - accuracy: 0.9875 - val_loss: 0.6898 - val_accuracy: 0.8657\n",
            "Epoch 60/100\n",
            "80/80 [==============================] - 59s 741ms/step - loss: 0.0176 - accuracy: 0.9941 - val_loss: 0.9587 - val_accuracy: 0.8339\n",
            "Epoch 61/100\n",
            "80/80 [==============================] - 58s 730ms/step - loss: 0.0430 - accuracy: 0.9902 - val_loss: 0.7921 - val_accuracy: 0.8445\n",
            "Epoch 62/100\n",
            "80/80 [==============================] - 58s 729ms/step - loss: 0.0216 - accuracy: 0.9918 - val_loss: 1.1593 - val_accuracy: 0.8339\n",
            "Epoch 63/100\n",
            "80/80 [==============================] - 58s 729ms/step - loss: 0.0550 - accuracy: 0.9832 - val_loss: 0.8722 - val_accuracy: 0.8021\n",
            "Epoch 64/100\n",
            "80/80 [==============================] - 59s 742ms/step - loss: 0.0508 - accuracy: 0.9836 - val_loss: 0.7376 - val_accuracy: 0.8163\n",
            "Epoch 65/100\n",
            "80/80 [==============================] - 58s 729ms/step - loss: 0.0447 - accuracy: 0.9887 - val_loss: 0.8174 - val_accuracy: 0.8375\n",
            "Epoch 66/100\n",
            "80/80 [==============================] - 59s 733ms/step - loss: 0.0247 - accuracy: 0.9930 - val_loss: 1.0049 - val_accuracy: 0.8127\n",
            "Epoch 67/100\n",
            "80/80 [==============================] - 59s 733ms/step - loss: 0.0362 - accuracy: 0.9887 - val_loss: 0.8371 - val_accuracy: 0.8198\n",
            "Epoch 68/100\n",
            "80/80 [==============================] - 58s 730ms/step - loss: 0.0194 - accuracy: 0.9953 - val_loss: 0.7798 - val_accuracy: 0.8551\n",
            "Epoch 69/100\n",
            "80/80 [==============================] - 60s 745ms/step - loss: 0.0081 - accuracy: 0.9965 - val_loss: 0.9406 - val_accuracy: 0.8622\n",
            "Epoch 70/100\n",
            "80/80 [==============================] - 59s 733ms/step - loss: 0.0047 - accuracy: 0.9980 - val_loss: 1.0538 - val_accuracy: 0.8339\n",
            "Epoch 71/100\n",
            "80/80 [==============================] - 59s 736ms/step - loss: 0.0141 - accuracy: 0.9969 - val_loss: 1.3482 - val_accuracy: 0.7880\n",
            "Epoch 72/100\n",
            "80/80 [==============================] - 59s 734ms/step - loss: 0.0110 - accuracy: 0.9973 - val_loss: 1.2422 - val_accuracy: 0.8092\n",
            "Epoch 73/100\n",
            "80/80 [==============================] - 60s 751ms/step - loss: 0.0511 - accuracy: 0.9848 - val_loss: 1.0784 - val_accuracy: 0.8163\n",
            "Epoch 74/100\n",
            "80/80 [==============================] - 58s 728ms/step - loss: 0.0495 - accuracy: 0.9863 - val_loss: 0.8644 - val_accuracy: 0.8021\n",
            "Epoch 75/100\n",
            "80/80 [==============================] - 58s 730ms/step - loss: 0.0330 - accuracy: 0.9902 - val_loss: 1.2556 - val_accuracy: 0.8092\n",
            "Epoch 76/100\n",
            "80/80 [==============================] - 58s 729ms/step - loss: 0.0373 - accuracy: 0.9879 - val_loss: 1.0372 - val_accuracy: 0.8127\n",
            "Epoch 77/100\n",
            "80/80 [==============================] - 60s 747ms/step - loss: 0.0434 - accuracy: 0.9875 - val_loss: 1.8695 - val_accuracy: 0.7739\n",
            "Epoch 78/100\n",
            "80/80 [==============================] - 58s 729ms/step - loss: 0.0875 - accuracy: 0.9746 - val_loss: 1.2803 - val_accuracy: 0.8092\n",
            "Epoch 79/100\n",
            "80/80 [==============================] - 59s 732ms/step - loss: 0.0490 - accuracy: 0.9852 - val_loss: 0.8382 - val_accuracy: 0.8481\n",
            "Epoch 80/100\n",
            "80/80 [==============================] - 58s 728ms/step - loss: 0.0105 - accuracy: 0.9965 - val_loss: 0.9058 - val_accuracy: 0.8693\n",
            "Epoch 81/100\n",
            "80/80 [==============================] - 59s 741ms/step - loss: 0.0095 - accuracy: 0.9953 - val_loss: 0.7976 - val_accuracy: 0.8763\n",
            "Epoch 82/100\n",
            "80/80 [==============================] - 59s 732ms/step - loss: 0.0120 - accuracy: 0.9953 - val_loss: 0.9804 - val_accuracy: 0.8304\n",
            "Epoch 83/100\n",
            "80/80 [==============================] - 58s 727ms/step - loss: 0.0237 - accuracy: 0.9922 - val_loss: 0.9057 - val_accuracy: 0.8587\n",
            "Epoch 84/100\n",
            "80/80 [==============================] - 59s 735ms/step - loss: 0.0264 - accuracy: 0.9926 - val_loss: 0.8234 - val_accuracy: 0.8445\n",
            "Epoch 85/100\n",
            "80/80 [==============================] - 59s 735ms/step - loss: 0.0328 - accuracy: 0.9891 - val_loss: 1.1727 - val_accuracy: 0.8127\n",
            "Epoch 86/100\n",
            "80/80 [==============================] - 60s 748ms/step - loss: 0.0250 - accuracy: 0.9922 - val_loss: 0.8413 - val_accuracy: 0.8481\n",
            "Epoch 87/100\n",
            "80/80 [==============================] - 59s 739ms/step - loss: 0.0393 - accuracy: 0.9906 - val_loss: 1.6528 - val_accuracy: 0.8127\n",
            "Epoch 88/100\n",
            "80/80 [==============================] - 59s 736ms/step - loss: 0.0296 - accuracy: 0.9887 - val_loss: 0.7129 - val_accuracy: 0.8481\n",
            "Epoch 89/100\n",
            "80/80 [==============================] - 59s 739ms/step - loss: 0.0273 - accuracy: 0.9926 - val_loss: 0.8548 - val_accuracy: 0.8516\n",
            "Epoch 90/100\n",
            "80/80 [==============================] - 60s 747ms/step - loss: 0.0143 - accuracy: 0.9957 - val_loss: 1.0766 - val_accuracy: 0.8728\n",
            "Epoch 91/100\n",
            "80/80 [==============================] - 59s 738ms/step - loss: 0.0088 - accuracy: 0.9973 - val_loss: 1.1566 - val_accuracy: 0.8304\n",
            "Epoch 92/100\n",
            "80/80 [==============================] - 59s 737ms/step - loss: 0.0060 - accuracy: 0.9977 - val_loss: 1.1897 - val_accuracy: 0.8445\n",
            "Epoch 93/100\n",
            "80/80 [==============================] - 59s 737ms/step - loss: 0.0022 - accuracy: 0.9988 - val_loss: 1.1920 - val_accuracy: 0.8304\n",
            "Epoch 94/100\n",
            "80/80 [==============================] - 60s 745ms/step - loss: 0.0100 - accuracy: 0.9965 - val_loss: 1.3622 - val_accuracy: 0.8269\n",
            "Epoch 95/100\n",
            "80/80 [==============================] - 59s 734ms/step - loss: 0.0108 - accuracy: 0.9949 - val_loss: 1.1010 - val_accuracy: 0.8410\n",
            "Epoch 96/100\n",
            "80/80 [==============================] - 58s 730ms/step - loss: 0.0174 - accuracy: 0.9945 - val_loss: 1.3871 - val_accuracy: 0.8163\n",
            "Epoch 97/100\n",
            "80/80 [==============================] - 58s 729ms/step - loss: 0.0482 - accuracy: 0.9875 - val_loss: 2.0385 - val_accuracy: 0.7456\n",
            "Epoch 98/100\n",
            "80/80 [==============================] - 59s 735ms/step - loss: 0.0416 - accuracy: 0.9859 - val_loss: 1.1087 - val_accuracy: 0.8304\n",
            "Epoch 99/100\n",
            "80/80 [==============================] - 60s 752ms/step - loss: 0.0483 - accuracy: 0.9852 - val_loss: 0.9428 - val_accuracy: 0.8233\n",
            "Epoch 100/100\n",
            "80/80 [==============================] - 59s 733ms/step - loss: 0.0227 - accuracy: 0.9926 - val_loss: 0.9107 - val_accuracy: 0.8481\n"
          ]
        }
      ],
      "source": [
        "model.compile(loss='categorical_crossentropy', optimizer='adam', metrics=['accuracy'])\n",
        "history = model.fit(training_set, batch_size=32, epochs=100, verbose=1, validation_data=validation_set)"
      ]
    },
    {
      "cell_type": "code",
      "execution_count": null,
      "metadata": {
        "colab": {
          "base_uri": "https://localhost:8080/",
          "height": 340
        },
        "id": "50qTqBnTI02S",
        "outputId": "5131c400-1d8f-4b31-82f1-d23dea6d619e"
      },
      "outputs": [
        {
          "output_type": "display_data",
          "data": {
            "text/plain": [
              "<Figure size 1008x360 with 2 Axes>"
            ],
            "image/png": "[encoded data removed]"
          },
          "metadata": {
            "needs_background": "light"
          }
        }
      ],
      "source": [
        "fig , ax = plt.subplots(1,2, figsize=(14,5))\n",
        "ax[0].plot(history.history['accuracy'])\n",
        "ax[0].plot(history.history['val_accuracy'])\n",
        "ax[0].set_title('model accuracy')\n",
        "ax[0].set_ylabel('accuracy')\n",
        "ax[0].set_xlabel('epoch')\n",
        "ax[0].legend(['train', 'test'], loc='upper left')\n",
        "\n",
        "ax[1].plot(history.history['loss'])\n",
        "ax[1].plot(history.history['val_loss'])\n",
        "ax[1].set_title('model loss')\n",
        "ax[1].set_ylabel('loss')\n",
        "ax[1].set_xlabel('epoch')\n",
        "ax[1].legend(['train', 'test'], loc='upper left')\n",
        "plt.show()"
      ]
    },
    {
      "cell_type": "code",
      "execution_count": null,
      "metadata": {
        "colab": {
          "base_uri": "https://localhost:8080/"
        },
        "id": "hkUvogpkJAAn",
        "outputId": "8ca94c9e-a492-4b20-bb6e-c0a31d1a3b19"
      },
      "outputs": [
        {
          "output_type": "stream",
          "name": "stdout",
          "text": [
            "training_accuracy 0.9925752282142639\n",
            "validation_accuracy 0.8480565547943115\n"
          ]
        }
      ],
      "source": [
        "print(\"training_accuracy\", history.history['accuracy'][-1])\n",
        "print(\"validation_accuracy\", history.history['val_accuracy'][-1])"
      ]
    },
    {
      "cell_type": "code",
      "source": [
        "test_datagen = ImageDataGenerator(rescale=1/255)\n",
        "test_set = test_datagen.flow_from_directory('/content/drive/MyDrive/data_breast_cancer/test_data',\n",
        "                                               target_size = (128,128),\n",
        "                                               batch_size = 32)\n",
        "model.evaluate(test_set)"
      ],
      "metadata": {
        "colab": {
          "base_uri": "https://localhost:8080/"
        },
        "id": "KV_4fdmT7NnZ",
        "outputId": "1050db3f-47fe-45b0-99f6-c35b6c53e6f0"
      },
      "execution_count": null,
      "outputs": [
        {
          "output_type": "stream",
          "name": "stdout",
          "text": [
            "Found 30 images belonging to 3 classes.\n",
            "1/1 [==============================] - 1s 1s/step - loss: 0.5042 - accuracy: 0.9333\n"
          ]
        },
        {
          "output_type": "execute_result",
          "data": {
            "text/plain": [
              "[0.5042001008987427, 0.9333333373069763]"
            ]
          },
          "metadata": {},
          "execution_count": 11
        }
      ]
    },
    {
      "cell_type": "code",
      "execution_count": null,
      "metadata": {
        "id": "3xU34OWZJJmn"
      },
      "outputs": [],
      "source": [
        "model.save(\"cancer.h5\")"
      ]
    },
    {
      "cell_type": "code",
      "execution_count": null,
      "metadata": {
        "colab": {
          "base_uri": "https://localhost:8080/"
        },
        "id": "p-hr3L93JTCG",
        "outputId": "eafa0117-fb72-4146-9cbb-43c8c8e93e2b"
      },
      "outputs": [
        {
          "output_type": "execute_result",
          "data": {
            "text/plain": [
              "{'benign_cases': 0, 'malignant_cases': 1, 'normal_cases': 2}"
            ]
          },
          "metadata": {},
          "execution_count": 13
        }
      ],
      "source": [
        "validation_set.class_indices"
      ]
    },
    {
      "cell_type": "code",
      "execution_count": null,
      "metadata": {
        "id": "DhJanJbxJYBt"
      },
      "outputs": [],
      "source": [
        "label = ['benign_cases', 'malignant_cases', 'normal_cases']"
      ]
    },
    {
      "cell_type": "code",
      "execution_count": null,
      "metadata": {
        "colab": {
          "base_uri": "https://localhost:8080/",
          "height": 285
        },
        "id": "Z4uljvqHJdUn",
        "outputId": "6145d248-df69-465a-91b7-2c53a13f2905"
      },
      "outputs": [
        {
          "output_type": "stream",
          "name": "stdout",
          "text": [
            "normal_cases\n"
          ]
        },
        {
          "output_type": "display_data",
          "data": {
            "text/plain": [
              "<Figure size 432x288 with 1 Axes>"
            ],
            "image/png": "[encoded data removed]"
          },
          "metadata": {
            "needs_background": "light"
          }
        }
      ],
      "source": [
        "img = load_img('/content/drive/MyDrive/data_breast_cancer/test_data/normal_cases/bth (1).png', target_size = (128,128,3))\n",
        "plt.imshow(img)\n",
        "img = img_to_array(img)\n",
        "img = img.reshape(1,128,128,3)\n",
        "img = img.astype('float32')\n",
        "img = img/255\n",
        "print(label[np.argmax(model.predict(img))])"
      ]
    },
    {
      "cell_type": "code",
      "source": [
        "for i in range(10):\n",
        "  i=i+1\n",
        "  img = load_img('/content/drive/MyDrive/data_breast_cancer/test_data/benign_cases/nhe ('+str(i)+').png', target_size = (128,128,3))\n",
        "  img = img_to_array(img)\n",
        "  img = img.reshape(1,128,128,3)\n",
        "  img = img.astype('float32')\n",
        "  img = img/255\n",
        "  print(label[np.argmax(model.predict(img))])"
      ],
      "metadata": {
        "colab": {
          "base_uri": "https://localhost:8080/"
        },
        "id": "gc1gdpNhj6FW",
        "outputId": "4ac29111-f0ef-4f91-f660-060828a59d55"
      },
      "execution_count": null,
      "outputs": [
        {
          "output_type": "stream",
          "name": "stdout",
          "text": [
            "benign_cases\n",
            "benign_cases\n",
            "benign_cases\n",
            "benign_cases\n",
            "benign_cases\n",
            "normal_cases\n",
            "benign_cases\n",
            "benign_cases\n",
            "benign_cases\n",
            "benign_cases\n"
          ]
        }
      ]
    },
    {
      "cell_type": "code",
      "source": [
        "for i in range(10):\n",
        "  i=i+1\n",
        "  img = load_img('/content/drive/MyDrive/data_breast_cancer/test_data/malignant_cases/nang ('+str(i)+').png', target_size = (128,128,3))\n",
        "  img = img_to_array(img)\n",
        "  img = img.reshape(1,128,128,3)\n",
        "  img = img.astype('float32')\n",
        "  img = img/255\n",
        "  print(label[np.argmax(model.predict(img))])"
      ],
      "metadata": {
        "colab": {
          "base_uri": "https://localhost:8080/"
        },
        "id": "u_xzzqR6ltSW",
        "outputId": "303d1e04-2e51-4fd3-9a4b-a73e03251370"
      },
      "execution_count": null,
      "outputs": [
        {
          "output_type": "stream",
          "name": "stdout",
          "text": [
            "malignant_cases\n",
            "malignant_cases\n",
            "malignant_cases\n",
            "malignant_cases\n",
            "malignant_cases\n",
            "malignant_cases\n",
            "malignant_cases\n",
            "malignant_cases\n",
            "malignant_cases\n",
            "malignant_cases\n"
          ]
        }
      ]
    },
    {
      "cell_type": "code",
      "source": [
        "for i in range(10):\n",
        "  i=i+1\n",
        "  img = load_img('/content/drive/MyDrive/data_breast_cancer/test_data/normal_cases/bth ('+str(i)+').png', target_size = (128,128,3))\n",
        "  img = img_to_array(img)\n",
        "  img = img.reshape(1,128,128,3)\n",
        "  img = img.astype('float32')\n",
        "  img = img/255\n",
        "  print(label[np.argmax(model.predict(img))])"
      ],
      "metadata": {
        "colab": {
          "base_uri": "https://localhost:8080/"
        },
        "id": "crxax4AoltyO",
        "outputId": "20527837-79d9-46db-d41e-67ad20c8b4a9"
      },
      "execution_count": null,
      "outputs": [
        {
          "output_type": "stream",
          "name": "stdout",
          "text": [
            "normal_cases\n",
            "normal_cases\n",
            "benign_cases\n",
            "normal_cases\n",
            "normal_cases\n",
            "normal_cases\n",
            "normal_cases\n",
            "normal_cases\n",
            "normal_cases\n",
            "normal_cases\n"
          ]
        }
      ]
    }
  ],
  "metadata": {
    "colab": {
      "collapsed_sections": [],
      "name": "Project (2) 28.ipynb",
      "provenance": [],
      "include_colab_link": true
    },
    "kernelspec": {
      "display_name": "Python 3",
      "name": "python3"
    },
    "language_info": {
      "name": "python"
    },
    "accelerator": "GPU"
  },
  "nbformat": 4,
  "nbformat_minor": 0
}